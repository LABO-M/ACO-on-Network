{
 "cells": [
  {
   "cell_type": "code",
   "execution_count": 10,
   "metadata": {},
   "outputs": [],
   "source": [
    "import sys\n",
    "import os\n",
    "\n",
    "# from IPython.core.interactiveshell import InteractiveShell\n",
    "# InteractiveShell.ast_node_interactivity = \"all\"\n",
    "from IPython.display import display\n",
    "\n",
    "sys.path.append(os.path.abspath(\"../src\"))\n",
    "\n",
    "from visuals.plots import *\n"
   ]
  },
  {
   "cell_type": "code",
   "execution_count": 11,
   "metadata": {},
   "outputs": [
    {
     "name": "stdout",
     "output_type": "stream",
     "text": [
      "Running simulation with the following parameters:\n",
      "N = 100, T = 10K, r = 100, omega = 10.0, alpha = 1.0, samples = 100\n"
     ]
    },
    {
     "name": "stderr",
     "output_type": "stream",
     "text": [
      "Samples: 100%|██████████████████████████████████████████| Time: 0:01:00\u001b[K14:04\u001b[K\n"
     ]
    },
    {
     "name": "stdout",
     "output_type": "stream",
     "text": [
      "Finished simulation\n",
      "Saved Z values to data/ising/Zt/N100_T10K_r100_omega10.0_alpha1.0.csv\n",
      "Running simulation with the following parameters:\n",
      "N = 100, T = 10K, r = 100, omega = 1.0, alpha = 1.0, samples = 100\n"
     ]
    },
    {
     "name": "stderr",
     "output_type": "stream",
     "text": [
      "Samples: 100%|██████████████████████████████████████████| Time: 0:01:08\u001b[K:09:17\u001b[K\n"
     ]
    },
    {
     "name": "stdout",
     "output_type": "stream",
     "text": [
      "Finished simulation\n",
      "Saved Z values to data/ising/Zt/N100_T10K_r100_omega1.0_alpha1.0.csv\n",
      "Running simulation with the following parameters:\n",
      "N = 100, T = 10K, r = 100, omega = 0.0, alpha = 1.0, samples = 100\n"
     ]
    },
    {
     "name": "stderr",
     "output_type": "stream",
     "text": [
      "Samples: 100%|██████████████████████████████████████████| Time: 0:01:15\u001b[K32:38\u001b[K\n"
     ]
    },
    {
     "name": "stdout",
     "output_type": "stream",
     "text": [
      "Finished simulation\n",
      "Saved Z values to data/ising/Zt/N100_T10K_r100_omega0.0_alpha1.0.csv\n",
      "Running simulation with the following parameters:\n",
      "N = 100, T = 10K, r = 100, omega = -0.99, alpha = 1.0, samples = 100\n"
     ]
    },
    {
     "name": "stderr",
     "output_type": "stream",
     "text": [
      "Samples: 100%|██████████████████████████████████████████| Time: 0:01:11\u001b[K40:14\u001b[K\n"
     ]
    },
    {
     "name": "stdout",
     "output_type": "stream",
     "text": [
      "Finished simulation\n",
      "Saved Z values to data/ising/Zt/N100_T10K_r100_omega-0.99_alpha1.0.csv\n",
      "Running simulation with the following parameters:\n",
      "N = 100, T = 10K, r = 100, omega = -1.0, alpha = 1.0, samples = 100\n"
     ]
    },
    {
     "name": "stderr",
     "output_type": "stream",
     "text": [
      "Samples: 100%|██████████████████████████████████████████| Time: 0:00:14\u001b[K:33:40\u001b[K\n"
     ]
    },
    {
     "name": "stdout",
     "output_type": "stream",
     "text": [
      "Finished simulation\n",
      "Saved Z values to data/ising/Zt/N100_T10K_r100_omega-1.0_alpha1.0.csv\n"
     ]
    }
   ],
   "source": [
    "omega_list = [10.0, 1.0, 0.0, -0.99, -1.0]\n",
    "\n",
    "for omega in omega_list:\n",
    "    command = f\"julia ../src/sampling/main.jl --omega {omega}\"\n",
    "    os.system(command)\n"
   ]
  },
  {
   "cell_type": "code",
   "execution_count": 12,
   "metadata": {},
   "outputs": [
    {
     "data": {
      "text/html": [
       "<div>\n",
       "<style scoped>\n",
       "    .dataframe tbody tr th:only-of-type {\n",
       "        vertical-align: middle;\n",
       "    }\n",
       "\n",
       "    .dataframe tbody tr th {\n",
       "        vertical-align: top;\n",
       "    }\n",
       "\n",
       "    .dataframe thead th {\n",
       "        text-align: right;\n",
       "    }\n",
       "</style>\n",
       "<table border=\"1\" class=\"dataframe\">\n",
       "  <thead>\n",
       "    <tr style=\"text-align: right;\">\n",
       "      <th></th>\n",
       "      <th>t</th>\n",
       "      <th>omega=10</th>\n",
       "      <th>omega=1.0</th>\n",
       "      <th>omega=0.0</th>\n",
       "      <th>omega=-0.99</th>\n",
       "      <th>omega=-1.0</th>\n",
       "    </tr>\n",
       "  </thead>\n",
       "  <tbody>\n",
       "    <tr>\n",
       "      <th>100</th>\n",
       "      <td>101</td>\n",
       "      <td>63.932537</td>\n",
       "      <td>63.823218</td>\n",
       "      <td>63.943285</td>\n",
       "      <td>63.796101</td>\n",
       "      <td>63.896848</td>\n",
       "    </tr>\n",
       "    <tr>\n",
       "      <th>101</th>\n",
       "      <td>102</td>\n",
       "      <td>62.722657</td>\n",
       "      <td>62.937757</td>\n",
       "      <td>63.303761</td>\n",
       "      <td>39.911166</td>\n",
       "      <td>63.257130</td>\n",
       "    </tr>\n",
       "    <tr>\n",
       "      <th>102</th>\n",
       "      <td>103</td>\n",
       "      <td>62.149615</td>\n",
       "      <td>62.679005</td>\n",
       "      <td>63.300274</td>\n",
       "      <td>39.934090</td>\n",
       "      <td>63.278011</td>\n",
       "    </tr>\n",
       "    <tr>\n",
       "      <th>103</th>\n",
       "      <td>104</td>\n",
       "      <td>61.661692</td>\n",
       "      <td>62.467469</td>\n",
       "      <td>63.271807</td>\n",
       "      <td>40.557872</td>\n",
       "      <td>63.297454</td>\n",
       "    </tr>\n",
       "    <tr>\n",
       "      <th>104</th>\n",
       "      <td>105</td>\n",
       "      <td>61.115615</td>\n",
       "      <td>62.246504</td>\n",
       "      <td>63.285720</td>\n",
       "      <td>40.577455</td>\n",
       "      <td>63.305282</td>\n",
       "    </tr>\n",
       "    <tr>\n",
       "      <th>...</th>\n",
       "      <td>...</td>\n",
       "      <td>...</td>\n",
       "      <td>...</td>\n",
       "      <td>...</td>\n",
       "      <td>...</td>\n",
       "      <td>...</td>\n",
       "    </tr>\n",
       "    <tr>\n",
       "      <th>9995</th>\n",
       "      <td>9996</td>\n",
       "      <td>0.132044</td>\n",
       "      <td>0.789016</td>\n",
       "      <td>1.625535</td>\n",
       "      <td>55.219595</td>\n",
       "      <td>93.773548</td>\n",
       "    </tr>\n",
       "    <tr>\n",
       "      <th>9996</th>\n",
       "      <td>9997</td>\n",
       "      <td>0.101991</td>\n",
       "      <td>0.801683</td>\n",
       "      <td>1.704351</td>\n",
       "      <td>55.589864</td>\n",
       "      <td>93.774151</td>\n",
       "    </tr>\n",
       "    <tr>\n",
       "      <th>9997</th>\n",
       "      <td>9998</td>\n",
       "      <td>0.114130</td>\n",
       "      <td>0.649532</td>\n",
       "      <td>1.562791</td>\n",
       "      <td>54.934241</td>\n",
       "      <td>93.775827</td>\n",
       "    </tr>\n",
       "    <tr>\n",
       "      <th>9998</th>\n",
       "      <td>9999</td>\n",
       "      <td>0.118977</td>\n",
       "      <td>0.706058</td>\n",
       "      <td>1.583815</td>\n",
       "      <td>54.876699</td>\n",
       "      <td>93.776372</td>\n",
       "    </tr>\n",
       "    <tr>\n",
       "      <th>9999</th>\n",
       "      <td>10000</td>\n",
       "      <td>0.080977</td>\n",
       "      <td>0.819080</td>\n",
       "      <td>1.466207</td>\n",
       "      <td>54.832563</td>\n",
       "      <td>93.777066</td>\n",
       "    </tr>\n",
       "  </tbody>\n",
       "</table>\n",
       "<p>9900 rows × 6 columns</p>\n",
       "</div>"
      ],
      "text/plain": [
       "          t   omega=10  omega=1.0  omega=0.0  omega=-0.99  omega=-1.0\n",
       "100     101  63.932537  63.823218  63.943285    63.796101   63.896848\n",
       "101     102  62.722657  62.937757  63.303761    39.911166   63.257130\n",
       "102     103  62.149615  62.679005  63.300274    39.934090   63.278011\n",
       "103     104  61.661692  62.467469  63.271807    40.557872   63.297454\n",
       "104     105  61.115615  62.246504  63.285720    40.577455   63.305282\n",
       "...     ...        ...        ...        ...          ...         ...\n",
       "9995   9996   0.132044   0.789016   1.625535    55.219595   93.773548\n",
       "9996   9997   0.101991   0.801683   1.704351    55.589864   93.774151\n",
       "9997   9998   0.114130   0.649532   1.562791    54.934241   93.775827\n",
       "9998   9999   0.118977   0.706058   1.583815    54.876699   93.776372\n",
       "9999  10000   0.080977   0.819080   1.466207    54.832563   93.777066\n",
       "\n",
       "[9900 rows x 6 columns]"
      ]
     },
     "metadata": {},
     "output_type": "display_data"
    },
    {
     "data": {
      "text/html": [
       "<div>\n",
       "<style scoped>\n",
       "    .dataframe tbody tr th:only-of-type {\n",
       "        vertical-align: middle;\n",
       "    }\n",
       "\n",
       "    .dataframe tbody tr th {\n",
       "        vertical-align: top;\n",
       "    }\n",
       "\n",
       "    .dataframe thead th {\n",
       "        text-align: right;\n",
       "    }\n",
       "</style>\n",
       "<table border=\"1\" class=\"dataframe\">\n",
       "  <thead>\n",
       "    <tr style=\"text-align: right;\">\n",
       "      <th></th>\n",
       "      <th>t</th>\n",
       "      <th>omega=10</th>\n",
       "      <th>omega=1.0</th>\n",
       "      <th>omega=0.0</th>\n",
       "      <th>omega=-0.99</th>\n",
       "      <th>omega=-1.0</th>\n",
       "    </tr>\n",
       "  </thead>\n",
       "  <tbody>\n",
       "    <tr>\n",
       "      <th>100</th>\n",
       "      <td>101</td>\n",
       "      <td>0.606354</td>\n",
       "      <td>0.651185</td>\n",
       "      <td>0.665260</td>\n",
       "      <td>0.689412</td>\n",
       "      <td>0.615621</td>\n",
       "    </tr>\n",
       "    <tr>\n",
       "      <th>101</th>\n",
       "      <td>102</td>\n",
       "      <td>0.600737</td>\n",
       "      <td>0.608676</td>\n",
       "      <td>0.648137</td>\n",
       "      <td>0.631622</td>\n",
       "      <td>0.613733</td>\n",
       "    </tr>\n",
       "    <tr>\n",
       "      <th>102</th>\n",
       "      <td>103</td>\n",
       "      <td>0.624179</td>\n",
       "      <td>0.707867</td>\n",
       "      <td>0.653141</td>\n",
       "      <td>0.639552</td>\n",
       "      <td>0.609367</td>\n",
       "    </tr>\n",
       "    <tr>\n",
       "      <th>103</th>\n",
       "      <td>104</td>\n",
       "      <td>0.627786</td>\n",
       "      <td>0.749580</td>\n",
       "      <td>0.671427</td>\n",
       "      <td>0.660622</td>\n",
       "      <td>0.632425</td>\n",
       "    </tr>\n",
       "    <tr>\n",
       "      <th>104</th>\n",
       "      <td>105</td>\n",
       "      <td>0.656063</td>\n",
       "      <td>0.803611</td>\n",
       "      <td>0.695242</td>\n",
       "      <td>0.691486</td>\n",
       "      <td>0.637756</td>\n",
       "    </tr>\n",
       "    <tr>\n",
       "      <th>...</th>\n",
       "      <td>...</td>\n",
       "      <td>...</td>\n",
       "      <td>...</td>\n",
       "      <td>...</td>\n",
       "      <td>...</td>\n",
       "      <td>...</td>\n",
       "    </tr>\n",
       "    <tr>\n",
       "      <th>9995</th>\n",
       "      <td>9996</td>\n",
       "      <td>0.320754</td>\n",
       "      <td>0.710533</td>\n",
       "      <td>1.151109</td>\n",
       "      <td>6.269558</td>\n",
       "      <td>9.205418</td>\n",
       "    </tr>\n",
       "    <tr>\n",
       "      <th>9996</th>\n",
       "      <td>9997</td>\n",
       "      <td>0.213534</td>\n",
       "      <td>0.777223</td>\n",
       "      <td>1.136743</td>\n",
       "      <td>6.930281</td>\n",
       "      <td>9.207567</td>\n",
       "    </tr>\n",
       "    <tr>\n",
       "      <th>9997</th>\n",
       "      <td>9998</td>\n",
       "      <td>0.248356</td>\n",
       "      <td>0.667278</td>\n",
       "      <td>1.137552</td>\n",
       "      <td>6.654744</td>\n",
       "      <td>9.207325</td>\n",
       "    </tr>\n",
       "    <tr>\n",
       "      <th>9998</th>\n",
       "      <td>9999</td>\n",
       "      <td>0.245069</td>\n",
       "      <td>0.704964</td>\n",
       "      <td>1.040698</td>\n",
       "      <td>6.046214</td>\n",
       "      <td>9.207948</td>\n",
       "    </tr>\n",
       "    <tr>\n",
       "      <th>9999</th>\n",
       "      <td>10000</td>\n",
       "      <td>0.210981</td>\n",
       "      <td>0.803221</td>\n",
       "      <td>1.062292</td>\n",
       "      <td>6.307186</td>\n",
       "      <td>9.207293</td>\n",
       "    </tr>\n",
       "  </tbody>\n",
       "</table>\n",
       "<p>9900 rows × 6 columns</p>\n",
       "</div>"
      ],
      "text/plain": [
       "          t  omega=10  omega=1.0  omega=0.0  omega=-0.99  omega=-1.0\n",
       "100     101  0.606354   0.651185   0.665260     0.689412    0.615621\n",
       "101     102  0.600737   0.608676   0.648137     0.631622    0.613733\n",
       "102     103  0.624179   0.707867   0.653141     0.639552    0.609367\n",
       "103     104  0.627786   0.749580   0.671427     0.660622    0.632425\n",
       "104     105  0.656063   0.803611   0.695242     0.691486    0.637756\n",
       "...     ...       ...        ...        ...          ...         ...\n",
       "9995   9996  0.320754   0.710533   1.151109     6.269558    9.205418\n",
       "9996   9997  0.213534   0.777223   1.136743     6.930281    9.207567\n",
       "9997   9998  0.248356   0.667278   1.137552     6.654744    9.207325\n",
       "9998   9999  0.245069   0.704964   1.040698     6.046214    9.207948\n",
       "9999  10000  0.210981   0.803221   1.062292     6.307186    9.207293\n",
       "\n",
       "[9900 rows x 6 columns]"
      ]
     },
     "metadata": {},
     "output_type": "display_data"
    }
   ],
   "source": [
    "omega10 = pd.read_csv(\"data/ising/Zt/N100_T10K_r100_omega10.0_alpha1.0.csv\")\n",
    "omega1 = pd.read_csv(\"data/ising/Zt/N100_T10K_r100_omega1.0_alpha1.0.csv\")\n",
    "omega0 = pd.read_csv(\"data/ising/Zt/N100_T10K_r100_omega0.0_alpha1.0.csv\")\n",
    "omega_099 = pd.read_csv(\"data/ising/Zt/N100_T10K_r100_omega-0.99_alpha1.0.csv\")\n",
    "omega_1 = pd.read_csv(\"data/ising/Zt/N100_T10K_r100_omega-1.0_alpha1.0.csv\")\n",
    "\n",
    "# データフレームの結合\n",
    "# 平均値のためのデータフレーム\n",
    "mean_df = pd.concat([omega10['t'], omega10['Z'], omega1['Z'], omega0['Z'], omega_099['Z'], omega_1['Z']], axis=1)\n",
    "mean_df = mean_df[mean_df['t'] > 100]\n",
    "mean_df.columns = [\"t\", \"omega=10\", \"omega=1.0\", \"omega=0.0\", \"omega=-0.99\", \"omega=-1.0\"]\n",
    "\n",
    "display(mean_df)\n",
    "\n",
    "# 標準偏差のためのデータフレーム\n",
    "std_df = pd.concat([omega10['t'], omega10['std'], omega1['std'], omega0['std'], omega_099['std'], omega_1['std']], axis=1)\n",
    "std_df = std_df[std_df['t'] > 100]\n",
    "std_df.columns = [\"t\", \"omega=10\", \"omega=1.0\", \"omega=0.0\", \"omega=-0.99\", \"omega=-1.0\"]\n",
    "\n",
    "\n",
    "display(std_df)\n"
   ]
  },
  {
   "cell_type": "code",
   "execution_count": 13,
   "metadata": {},
   "outputs": [
    {
     "data": {
      "image/png": "[encoded data removed]",
      "text/plain": [
       "<Figure size 800x600 with 1 Axes>"
      ]
     },
     "metadata": {},
     "output_type": "display_data"
    }
   ],
   "source": [
    "from matplotlib import pyplot as plt\n",
    "import seaborn as sns\n",
    "\n",
    "# 平均値データフレームを \"long format\" に変換\n",
    "mean_long = pd.melt(mean_df, id_vars=['t'], var_name='omega', value_name='Z(t)')\n",
    "\n",
    "# lineplot を作成（平均値）\n",
    "plt.figure(figsize=(8, 6))\n",
    "sns.lineplot(data=mean_long, x='t', y='Z(t)', hue='omega', palette=\"tab10\")\n",
    "\n",
    "# 標準偏差の帯を追加\n",
    "for column in mean_df.columns[1:]:\n",
    "    omega = column\n",
    "    subset_mean = mean_df[['t', omega]]\n",
    "    subset_std = std_df[['t', omega]]\n",
    "    plt.fill_between(subset_mean['t'], subset_mean[omega] - subset_std[omega], subset_mean[omega] + subset_std[omega], alpha=0.2)\n",
    "\n",
    "plt.title(\"N=100, T=10K, r=100, alpha=1.0\")\n",
    "plt.grid()\n",
    "# plt.ylim(0.49, 0.71)\n",
    "plt.show()\n"
   ]
  },
  {
   "cell_type": "code",
   "execution_count": null,
   "metadata": {},
   "outputs": [
    {
     "name": "stdout",
     "output_type": "stream",
     "text": [
      "Running simulation with the following parameters:\n",
      "N = 100, T = 10K, r = 100, omega = 10.0, alpha = 1.0, samples = 100\n"
     ]
    },
    {
     "name": "stderr",
     "output_type": "stream",
     "text": [
      "Samples: 100%|██████████████████████████████████████████| Time: 0:01:00\u001b[K14:04\u001b[K\n"
     ]
    },
    {
     "name": "stdout",
     "output_type": "stream",
     "text": [
      "Finished simulation\n",
      "Saved Z values to data/ising/Zt/N100_T10K_r100_omega10.0_alpha1.0.csv\n",
      "Running simulation with the following parameters:\n",
      "N = 100, T = 10K, r = 100, omega = 1.0, alpha = 1.0, samples = 100\n"
     ]
    },
    {
     "name": "stderr",
     "output_type": "stream",
     "text": [
      "Samples: 100%|██████████████████████████████████████████| Time: 0:01:08\u001b[K:09:17\u001b[K\n"
     ]
    },
    {
     "name": "stdout",
     "output_type": "stream",
     "text": [
      "Finished simulation\n",
      "Saved Z values to data/ising/Zt/N100_T10K_r100_omega1.0_alpha1.0.csv\n",
      "Running simulation with the following parameters:\n",
      "N = 100, T = 10K, r = 100, omega = 0.0, alpha = 1.0, samples = 100\n"
     ]
    },
    {
     "name": "stderr",
     "output_type": "stream",
     "text": [
      "Samples: 100%|██████████████████████████████████████████| Time: 0:01:15\u001b[K32:38\u001b[K\n"
     ]
    },
    {
     "name": "stdout",
     "output_type": "stream",
     "text": [
      "Finished simulation\n",
      "Saved Z values to data/ising/Zt/N100_T10K_r100_omega0.0_alpha1.0.csv\n",
      "Running simulation with the following parameters:\n",
      "N = 100, T = 10K, r = 100, omega = -0.99, alpha = 1.0, samples = 100\n"
     ]
    },
    {
     "name": "stderr",
     "output_type": "stream",
     "text": [
      "Samples: 100%|██████████████████████████████████████████| Time: 0:01:11\u001b[K40:14\u001b[K\n"
     ]
    },
    {
     "name": "stdout",
     "output_type": "stream",
     "text": [
      "Finished simulation\n",
      "Saved Z values to data/ising/Zt/N100_T10K_r100_omega-0.99_alpha1.0.csv\n",
      "Running simulation with the following parameters:\n",
      "N = 100, T = 10K, r = 100, omega = -1.0, alpha = 1.0, samples = 100\n"
     ]
    },
    {
     "name": "stderr",
     "output_type": "stream",
     "text": [
      "Samples: 100%|██████████████████████████████████████████| Time: 0:00:14\u001b[K:33:40\u001b[K\n"
     ]
    },
    {
     "name": "stdout",
     "output_type": "stream",
     "text": [
      "Finished simulation\n",
      "Saved Z values to data/ising/Zt/N100_T10K_r100_omega-1.0_alpha1.0.csv\n"
     ]
    }
   ],
   "source": [
    "omega_list = [10.0, 1.0, 0.0, -0.99, -1.0]\n",
    "\n",
    "for omega in omega_list:\n",
    "    command = f\"julia ../src/sampling/main.jl --omega {omega} --alpha 0.0\"\n",
    "    os.system(command)\n"
   ]
  },
  {
   "cell_type": "code",
   "execution_count": null,
   "metadata": {},
   "outputs": [],
   "source": []
  }
 ],
 "metadata": {
  "kernelspec": {
   "display_name": "shogo",
   "language": "python",
   "name": "python3"
  },
  "language_info": {
   "codemirror_mode": {
    "name": "ipython",
    "version": 3
   },
   "file_extension": ".py",
   "mimetype": "text/x-python",
   "name": "python",
   "nbconvert_exporter": "python",
   "pygments_lexer": "ipython3",
   "version": "3.11.4"
  }
 },
 "nbformat": 4,
 "nbformat_minor": 2
}
